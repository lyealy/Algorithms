{
 "cells": [
  {
   "cell_type": "markdown",
   "metadata": {},
   "source": [
    "# Solve Lasso via Alternating Direction Method of Multiplier (ADMM)\n",
    "This algorithm is a demo of applying ADMM solver to solve the Lasso problem. Code is not optimized, thus this algorithm is only suitable for small dimensional problems.\n",
    "\n",
    ". $$ min \\frac{1}{2}||Ax-b||_2^2 + \\lambda||x||_1 $$\n"
   ]
  },
  {
   "cell_type": "code",
   "execution_count": null,
   "metadata": {
    "collapsed": true
   },
   "outputs": [],
   "source": [
    "import numpy as np\n",
    "from numpy.linalg import norm\n",
    "import time\n",
    "import math\n",
    "import matplotlib.pyplot as plt\n",
    "%matplotlib inline"
   ]
  },
  {
   "cell_type": "code",
   "execution_count": null,
   "metadata": {
    "collapsed": true
   },
   "outputs": [],
   "source": [
    "def eta_soft(x,th):\n",
    "    y = x.copy()\n",
    "    for i,v in enumerate(x): \n",
    "        if v > th:\n",
    "            y[i] = v - th\n",
    "        elif v < -th:\n",
    "            y[i] = v + th\n",
    "        else:\n",
    "            y[i] = 0\n",
    "    return y"
   ]
  },
  {
   "cell_type": "code",
   "execution_count": null,
   "metadata": {},
   "outputs": [],
   "source": [
    "def ADMM(A,b,lmbda, rho):\n",
    "    \n",
    "    \n",
    "    start = time.time()\n",
    "    # define algorithm parameters, iterations and tolerances\n",
    "    Max_iter = 100\n",
    "    Abstol = 10**-4\n",
    "    Reltol = 10**-2\n",
    "    \n",
    "    # initialization\n",
    "    m , n = A.shape\n",
    "    Atb = np.matmul(A.T,b)\n",
    "    AtA = np.matmul(A.T,A)\n",
    "    \n",
    "    x = np.zeros((n,1),dtype=np.float32)\n",
    "    z = np.zeros((n,1),dtype=np.float32)\n",
    "    u = np.zeros((n,1),dtype=np.float32)\n",
    "    \n",
    "    # iterations\n",
    "    for k in range(Max_iter):\n",
    "        \n",
    "        # update x\n",
    "        q = Atb + rho * (z - u)\n",
    "        x = np.matmul(np.linalg.pinv(AtA + rho * np.eye(n,dtype=np.float32)),q)\n",
    "        \n",
    "        # update z\n",
    "        zold = z\n",
    "        z = eta_soft(x + u, lmbda / rho)\n",
    "        \n",
    "        # update u\n",
    "        u = u + (x - z)\n",
    "        \n",
    "        # update residuals\n",
    "        r = norm(x - z)\n",
    "        s = norm(-rho * (z - zold))\n",
    "        \n",
    "        eps_pri = np.sqrt(n) * Abstol + Reltol * max(norm(x),norm(-z))\n",
    "        eps_dual = np.sqrt(n) * Abstol + Reltol * norm(rho * u)\n",
    "        \n",
    "        print('r={:.5}, s={:.5}, eps_pri={:.5}, eps_dual={:.5}'.format(r,s,eps_pri,eps_dual))\n",
    "        \n",
    "        if (r < eps_pri) and (s < eps_dual):\n",
    "            break\n",
    "    \n",
    "    print('Time period={} after {} iterations'.format(time.time()-start, k))\n",
    "    return z\n",
    "    \n",
    "    "
   ]
  },
  {
   "cell_type": "code",
   "execution_count": null,
   "metadata": {},
   "outputs": [],
   "source": [
    "np.random.seed(2)\n",
    "m = 150\n",
    "n = 500\n",
    "sparsity = 0.02 #sparsity level\n",
    "non_zero = math.floor(sparsity * n) # number of non zero values\n",
    "\n",
    "x0 = np.random.permutation(np.concatenate((np.random.randn(non_zero,1),np.zeros((n-non_zero,1),dtype=np.float32)),axis=0))\n",
    "\n"
   ]
  },
  {
   "cell_type": "code",
   "execution_count": null,
   "metadata": {},
   "outputs": [],
   "source": [
    "A = np.random.randn(m,n)\n",
    "for i in range(n):\n",
    "    A[:,i] = A[:,i]/norm(A[:,i])\n",
    "    \n",
    "b = np.matmul(A,x0) + np.sqrt(0.001) * np.random.randn(m,1)\n",
    "\n",
    "lmbda_max = norm(np.matmul(A.T,b),ord=np.inf)\n",
    "lmbda = 0.1 * lmbda_max\n",
    "rho = 1.0\n",
    "x_hat = ADMM(A,b,lmbda, rho)"
   ]
  },
  {
   "cell_type": "code",
   "execution_count": null,
   "metadata": {},
   "outputs": [],
   "source": [
    "plt.figure(figsize=(12,8))\n",
    "plt.plot(x0,label='original signal')\n",
    "plt.plot(x_hat,label='estimated signal')\n",
    "plt.legend()"
   ]
  }
 ],
 "metadata": {
  "kernelspec": {
   "display_name": "Python 3",
   "language": "python",
   "name": "python3"
  },
  "language_info": {
   "codemirror_mode": {
    "name": "ipython",
    "version": 3
   },
   "file_extension": ".py",
   "mimetype": "text/x-python",
   "name": "python",
   "nbconvert_exporter": "python",
   "pygments_lexer": "ipython3",
   "version": "3.6.3"
  }
 },
 "nbformat": 4,
 "nbformat_minor": 2
}
